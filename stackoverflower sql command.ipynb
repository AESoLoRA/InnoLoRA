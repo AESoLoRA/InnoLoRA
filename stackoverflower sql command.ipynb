{
  "nbformat": 4,
  "nbformat_minor": 0,
  "metadata": {
    "colab": {
      "provenance": []
    },
    "kernelspec": {
      "name": "python3",
      "display_name": "Python 3"
    },
    "language_info": {
      "name": "python"
    }
  },
  "cells": [
    {
      "cell_type": "code",
      "execution_count": null,
      "metadata": {
        "id": "AUQ1dYmEBc0y"
      },
      "outputs": [],
      "source": [
        "SELECT *\n",
        "INTO Dataset1\n",
        "FROM Posts\n",
        "WHERE PostTypeId = 2;"
      ]
    },
    {
      "cell_type": "code",
      "source": [
        "EXEC sp_rename 'dataset1.Id', 'Ans_Id', 'COLUMN';\n",
        "EXEC sp_rename 'dataset1.AcceptedAnswerId', 'Ans_AcceptedAnswerId', 'COLUMN';\n",
        "EXEC sp_rename 'dataset1.AnswerCount', 'Ans_AnswerCount', 'COLUMN';\n",
        "EXEC sp_rename 'dataset1.Body', 'Ans_Body', 'COLUMN';\n",
        "EXEC sp_rename 'dataset1.ClosedDate', 'Ans_ClosedDate', 'COLUMN';\n",
        "EXEC sp_rename 'dataset1.CommentCount', 'Ans_CommentCount', 'COLUMN';\n",
        "EXEC sp_rename 'dataset1.CommunityOwnedDate', 'Ans_CommunityOwnedDate', 'COLUMN';\n",
        "EXEC sp_rename 'dataset1.CreationDate', 'Ans_CreationDate', 'COLUMN';\n",
        "EXEC sp_rename 'dataset1.FavoriteCount', 'Ans_FavoriteCount', 'COLUMN';\n",
        "EXEC sp_rename 'dataset1.LastActivityDate', 'Ans_LastActivityDate', 'COLUMN';\n",
        "EXEC sp_rename 'dataset1.LastEditDate', 'Ans_LastEditDate', 'COLUMN';\n",
        "EXEC sp_rename 'dataset1.LastEditorDisplayName', 'Ans_LastEditorDisplayName', 'COLUMN';\n",
        "EXEC sp_rename 'dataset1.LastEditorUserId', 'Ans_LastEditorUserId', 'COLUMN';\n",
        "EXEC sp_rename 'dataset1.OwnerUserId', 'Ans_OwnerUserId', 'COLUMN';\n",
        "EXEC sp_rename 'dataset1.ParentId', 'Ans_ParentId', 'COLUMN';\n",
        "EXEC sp_rename 'dataset1.PostTypeId', 'Ans_PostTypeId', 'COLUMN';\n",
        "EXEC sp_rename 'dataset1.Score', 'Ans_Score', 'COLUMN';\n",
        "EXEC sp_rename 'dataset1.Tags', 'Ans_Tags', 'COLUMN';\n",
        "EXEC sp_rename 'dataset1.Title', 'Ans_Title', 'COLUMN';\n",
        "EXEC sp_rename 'dataset1.ViewCount', 'Ans_ViewCount', 'COLUMN';"
      ],
      "metadata": {
        "id": "XbnynaCDBeBV"
      },
      "execution_count": null,
      "outputs": []
    },
    {
      "cell_type": "code",
      "source": [
        "SELECT Dataset1.*, Posts.*\n",
        "FROM Dataset1\n",
        "JOIN Posts ON Dataset1.Ans_ParentId = Posts.Id;"
      ],
      "metadata": {
        "id": "U9W4bhgyFeK-"
      },
      "execution_count": null,
      "outputs": []
    }
  ]
}