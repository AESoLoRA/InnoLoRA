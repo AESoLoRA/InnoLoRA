{
  "nbformat": 4,
  "nbformat_minor": 0,
  "metadata": {
    "colab": {
      "provenance": [],
      "gpuType": "T4"
    },
    "kernelspec": {
      "name": "python3",
      "display_name": "Python 3"
    },
    "language_info": {
      "name": "python"
    },
    "accelerator": "GPU"
  },
  "cells": [
    {
      "cell_type": "code",
      "execution_count": null,
      "metadata": {
        "id": "DXH4Vqs0mKJh"
      },
      "outputs": [],
      "source": [
        "import requests\n",
        "import os\n",
        "import json\n",
        "import urllib.request\n",
        "import pandas as pd\n",
        "from bs4 import BeautifulSoup\n",
        "Main_Languages = ['Haskell']"
      ]
    },
    {
      "cell_type": "code",
      "source": [
        "problems = pd.read_csv('problems.csv',header=0)"
      ],
      "metadata": {
        "id": "7E5sZSMP_XON"
      },
      "execution_count": null,
      "outputs": []
    },
    {
      "cell_type": "code",
      "source": [
        "#f\"/page/{Page_number}?order=BY_PROGRAM_LENGTH_ASC\""
      ],
      "metadata": {
        "id": "B3GxLTrxDhT-"
      },
      "execution_count": null,
      "outputs": []
    },
    {
      "cell_type": "code",
      "source": [
        "def link_generator(problems):\n",
        "  Links=[]\n",
        "  for i, problem in problems.iterrows():\n",
        "    contest_id = problem['contest_id']\n",
        "    index = problem['index']\n",
        "    Link_to_status = f\"https://codeforces.com/problemset/status/{contest_id}/problem/{index}\"\n",
        "    Link_to_problem = f\"https://codeforces.com/problemset/problem/{contest_id}/{index}\"\n",
        "    Links.append((Link_to_problem,Link_to_status))\n",
        "  return Links\n",
        "Links = link_generator(problems)"
      ],
      "metadata": {
        "id": "x2KqLEkQxHCx"
      },
      "execution_count": null,
      "outputs": []
    },
    {
      "cell_type": "code",
      "source": [
        "Links[13]"
      ],
      "metadata": {
        "colab": {
          "base_uri": "https://localhost:8080/"
        },
        "id": "a_CKuFkEBxxO",
        "outputId": "6adccdaa-7daf-451a-dff1-f986b72eda14"
      },
      "execution_count": null,
      "outputs": [
        {
          "output_type": "execute_result",
          "data": {
            "text/plain": [
              "('https://codeforces.com/problemset/problem/1370/A',\n",
              " 'https://codeforces.com/problemset/status/1370/problem/A')"
            ]
          },
          "metadata": {},
          "execution_count": 5
        }
      ]
    },
    {
      "cell_type": "code",
      "source": [
        "len(Links)"
      ],
      "metadata": {
        "colab": {
          "base_uri": "https://localhost:8080/"
        },
        "id": "075tV2649bCb",
        "outputId": "af9e888c-e016-4249-80d4-59d737aa9890"
      },
      "execution_count": null,
      "outputs": [
        {
          "output_type": "execute_result",
          "data": {
            "text/plain": [
              "6167"
            ]
          },
          "metadata": {},
          "execution_count": 6
        }
      ]
    },
    {
      "cell_type": "code",
      "source": [
        "def extract_links_ids_from_status_page(soup):\n",
        "  \"\"\"\n",
        "  https://codeforces.com/problemset/status/1370/problem/D/page/1?order=BY_PROGRAM_LENGTH_ASC\n",
        "  status page of one problem contain multible solutions\n",
        "  I exctracted the solutions link and submissions id  that has language in MainLanguage list\n",
        "  \"\"\"\n",
        "  table_of_submissions = soup.find('table', class_='status-frame-datatable')\n",
        "\n",
        "  i=0\n",
        "  Links_Ids = []\n",
        "\n",
        "  #Access submission table\n",
        "\n",
        "  for row in table_of_submissions.find_all('tr'):\n",
        "    #Access cells in submission table\n",
        "    cells = row.find_all('td')\n",
        "\n",
        "    if len(cells) == 0:\n",
        "      continue\n",
        "    #Access Lang cell\n",
        "    if len(cells) >= 5:\n",
        "      language = cells[4].text.strip()\n",
        "      if language not in Main_Languages:\n",
        "        continue\n",
        "\n",
        "    #Access \"#\" Cell\n",
        "      first_cell = cells[0]\n",
        "      a_tag = first_cell.find('a', class_='view-source')\n",
        "\n",
        "      if a_tag:\n",
        "        Link_to_source_solution = a_tag['href']\n",
        "        submission_id = a_tag['submissionid']\n",
        "        Links_Ids.append((\"https://codeforces.com\" + Link_to_source_solution , submission_id))\n",
        "      else:\n",
        "        print(\"Error2 - There is no a_Tag\")\n",
        "    else:\n",
        "      print(\"Error1 - There is no language value in this row\")\n",
        "    i+=1\n",
        "  return Links_Ids"
      ],
      "metadata": {
        "id": "8K3thuSxEzvD"
      },
      "execution_count": null,
      "outputs": []
    },
    {
      "cell_type": "code",
      "source": [
        "\n",
        "extracted_data=[]\n",
        "URL = Links[13][1]\n",
        "page = requests.get(URL)\n",
        "\n",
        "soup = BeautifulSoup(page.content, \"html.parser\")\n",
        "def extract_submissions_links_from_all_status(soup, link):\n",
        "  pagination_div = soup.find_all('div', class_=\"pagination\")[-1]\n",
        "  last_page_number = -1\n",
        "  if pagination_div:\n",
        "    ul_element = pagination_div.find('ul')\n",
        "    if ul_element:\n",
        "      last_page_number = ul_element.find_all('li')[-2].text.strip()\n",
        "    else:\n",
        "      print(\"Error - no <ul>\")\n",
        "      print(link)\n",
        "  else:\n",
        "    print(\"Error - no <li>\")\n",
        "\n",
        "  #print(last_page_number)\n",
        "\n",
        "  if last_page_number == -1:\n",
        "    last_page_number = 10\n",
        "\n",
        "  for page_number in range(1,int(last_page_number)+1):\n",
        "    URL_pages = URL +  f\"/page/{page_number}?order=BY_PROGRAM_LENGTH_ASC\"\n",
        "    other_page = requests.get(URL_pages)\n",
        "    other_soup = BeautifulSoup(other_page.content, \"html.parser\")\n",
        "    extracted_data.extend(extract_links_ids_from_status_page(other_soup))\n",
        "    #print(len(extracted_data))\n",
        "  return extracted_data\n"
      ],
      "metadata": {
        "id": "dxOd31xHGVEz"
      },
      "execution_count": null,
      "outputs": []
    },
    {
      "cell_type": "code",
      "source": [
        "Link1= \"https://codeforces.com/problemset/submission/1370/84476054\"\n",
        "page = requests.get(Link1)\n",
        "soup = BeautifulSoup(page.content, 'html.parser')\n",
        "def extract_code_from_submission(soup):\n",
        "  code = soup.find('pre', id='program-source-text').text.strip()\n",
        "  return code\n",
        "code = extract_code_from_submission(soup)"
      ],
      "metadata": {
        "id": "6aJiw_ZTTdbm"
      },
      "execution_count": null,
      "outputs": []
    },
    {
      "cell_type": "code",
      "source": [
        "print(code)"
      ],
      "metadata": {
        "colab": {
          "base_uri": "https://localhost:8080/"
        },
        "id": "LBScBTXmVASN",
        "outputId": "b08005e0-1f26-42d6-9f30-c655f7e4a7b5"
      },
      "execution_count": null,
      "outputs": [
        {
          "output_type": "stream",
          "name": "stdout",
          "text": [
            "main = interact $ unlines . map (show . (flip div 2) . read) . tail . words\n"
          ]
        }
      ]
    },
    {
      "cell_type": "code",
      "source": [
        "from numpy.core.multiarray import empty\n",
        "from bs4.element import NavigableString\n",
        "def extract_text_mathlb_from_problem(position):\n",
        "  data = \"\"\n",
        "  math_pos = []\n",
        "  try:\n",
        "    if len(position.contents) > 1:\n",
        "      for child in position.children:\n",
        "          X , math_pos1 = extract_text_mathlb_from_problem(child)\n",
        "          if child.name == \"div\" or child.name == \"p\":\n",
        "              data += \"\\n\"\n",
        "              math_pos.extend([0,0])\n",
        "          else:\n",
        "              data += \" \"\n",
        "              math_pos.extend([0])\n",
        "          data += X\n",
        "          math_pos.extend(math_pos1)\n",
        "    else:\n",
        "      if position.name == 'span' and position.get('class') == ['MathJax']:\n",
        "          data = position.get('data-mathml')\n",
        "\n",
        "          math_pos.extend([1 for i in range(len(data))])\n",
        "      else:\n",
        "          data = position.get_text(strip=False)\n",
        "          math_pos.extend([0 for i in range(len(data))])\n",
        "  except:\n",
        "    if str(position).strip():\n",
        "      data = str(position).strip()\n",
        "      math_pos.extend([0 for i in range(len(data))])\n",
        "  return data , math_pos"
      ],
      "metadata": {
        "id": "cMBpWER6in7C"
      },
      "execution_count": null,
      "outputs": []
    },
    {
      "cell_type": "code",
      "source": [
        "Link1= \"https://codeforces.com/contest/1370/problem/F1\"\n",
        "page = requests.get(Link1)\n",
        "soup = BeautifulSoup(page.content, 'html.parser')\n",
        "problem_statement = soup.find(class_='problem-statement')\n",
        "Data , pos = extract_text_mathlb_from_problem(problem_statement)"
      ],
      "metadata": {
        "id": "W3mnJVLu9cGR"
      },
      "execution_count": null,
      "outputs": []
    },
    {
      "cell_type": "code",
      "source": [
        "Data"
      ],
      "metadata": {
        "colab": {
          "base_uri": "https://localhost:8080/",
          "height": 165
        },
        "id": "ky9JDR0g7IuX",
        "outputId": "9eb265ab-62e3-4cac-c906-e3e3aa3b1fdb"
      },
      "execution_count": null,
      "outputs": [
        {
          "output_type": "execute_result",
          "data": {
            "text/plain": [
              "'\\n\\nF1. The Hidden Pair (Easy Version)\\n\\ntime limit per test 2 seconds\\n\\nmemory limit per test 256 megabytes\\n\\ninput standard input\\n\\noutput standard output\\n\\nNote that the only difference between the easy and hard version is the constraint on the number of queries. You can make hacks only if all versions of the problem are solved.\\nThis is an interactive problem.\\nYou are given a tree consisting of $$$n$$$ nodes numbered with integers from $$$1$$$ to $$$n$$$. Ayush and Ashish chose two secret distinct nodes in the tree. You need to find out both the nodes. You can make the following query:     Provide a list of nodes and you will receive a node from that list whose sum of distances to both the hidden nodes is minimal (if there are multiple such nodes in the list, you will receive any one of them). You will also get the sum of distances of that node to the hidden nodes. \\nRecall that a tree is a connected graph without cycles. The distance between two nodes is defined as the number of edges in the simple path between them.\\nMore formally, let\\'s define two hidden nodes as $$$s$$$ and $$$f$$$. In one query you can provide the set of nodes $$$\\\\{a_1, a_2, \\\\ldots, a_c\\\\}$$$ of the tree. As a result, you will get two numbers $$$a_i$$$ and $$$dist(a_i, s) + dist(a_i, f)$$$. The node $$$a_i$$$ is any node from the provided set, for which the number $$$dist(a_i, s) + dist(a_i, f)$$$ is minimal.\\nYou can ask no more than $$$14$$$ queries.\\n\\nInput\\n The first line contains a single integer $$$t$$$ $$$(1 \\\\leq t \\\\leq 10)$$$\\xa0— the number of test cases. Please note, how the interaction process is organized.\\nThe first line of each test case consists of a single integer $$$n$$$ $$$(2 \\\\le n \\\\le 1000)$$$\\xa0— the number of nodes in the tree.\\nThe next $$$n - 1$$$ lines consist of two integers $$$u$$$, $$$v$$$ $$$(1 \\\\le u, v \\\\le n, u \\\\ne v)$$$\\xa0— the edges of the tree.\\n\\nInteraction\\nTo ask a query print a single line:     In the beginning print \" ? c \" (without quotes) where $$$c$$$ $$$(1 \\\\leq c \\\\leq n)$$$ denotes the number of nodes being queried, followed by $$$c$$$ distinct integers in the range $$$[1, n]$$$ \\xa0— the indices of nodes from the list.\\nFor each query, you will receive two integers $$$x$$$, $$$d$$$\\xa0— the node (among the queried nodes) with the minimum sum of distances to the hidden nodes and the sum of distances from that node to the hidden nodes. If the subset of nodes queried is invalid or you exceeded the number of queries then you will get $$$x = d = -1$$$. In this case, you should terminate the program immediately.\\n When you have guessed the hidden nodes, print a single line \" ! \" (without quotes), followed by two integers in the range $$$[1, n]$$$ \\xa0— the hidden nodes. You can output the hidden nodes in any order.\\n After this, you should read a string. If you guess the nodes correctly, you will receive the string \" Correct \". In this case, you should continue solving the remaining test cases or terminate the program, if all test cases were solved. Otherwise, you will receive the string \" Incorrect \". In this case, you should terminate the program immediately.\\n Guessing the hidden nodes does not count towards the number of queries asked.\\n The interactor is not adaptive. The hidden nodes do not change with queries.\\n Do not forget to read the string \" Correct \" / \" Incorrect \" after guessing the hidden nodes.\\nYou need to solve each test case before receiving the input for the next test case.\\nThe limit of $$$14$$$ queries applies to each test case and not to the entire input.\\n After printing a query do not forget to output the end of the line and flush the output. Otherwise, you will get Idleness limit exceeded . To do this, use:    fflush(stdout) or cout.flush() in C++;   System.out.flush() in Java;   flush(output) in Pascal;   stdout.flush() in Python;  see the documentation for other languages.\\nHacks\\nTo hack the solution, use the following test format:\\nThe first line should contain a single integer $$$t$$$ $$$(1 \\\\leq t \\\\leq 10)$$$\\xa0— the number of test cases. The description of the test cases follows.\\nThe first line of each test case should contain a single integer $$$n$$$ $$$(2 \\\\le n \\\\le 1000)$$$\\xa0— the number of nodes in the tree. The second line should contain two distinct integers in the range $$$[1, n]$$$ \\xa0— the hidden nodes. The next $$$n - 1$$$ lines should contain two integers $$$u$$$, $$$v$$$ $$$(1 \\\\le u, v \\\\le n, u \\\\ne v)$$$ \\xa0— the edges of the tree.\\n\\nExample\\n\\n\\nInput 1\\n3\\n1 2\\n1 3\\n\\n1 1\\n\\n2 3\\n\\n3 1\\n\\n3 1\\n\\nCorrect\\n\\nOutput ? 1 1\\n\\n? 1 2\\n\\n? 1 3\\n\\n? 2 2 3\\n\\n! 1 3\\n\\nNote\\nThe tree from the first test is shown below, and the hidden nodes are $$$1$$$ and $$$3$$$. '"
            ],
            "application/vnd.google.colaboratory.intrinsic+json": {
              "type": "string"
            }
          },
          "metadata": {},
          "execution_count": 13
        }
      ]
    },
    {
      "cell_type": "code",
      "source": [
        "len(Links)"
      ],
      "metadata": {
        "colab": {
          "base_uri": "https://localhost:8080/"
        },
        "id": "hHYo52JV9UYH",
        "outputId": "9fb56515-2c30-4d6a-9db2-83b15b5e6f57"
      },
      "execution_count": null,
      "outputs": [
        {
          "output_type": "execute_result",
          "data": {
            "text/plain": [
              "6167"
            ]
          },
          "metadata": {},
          "execution_count": 14
        }
      ]
    },
    {
      "cell_type": "code",
      "source": [
        "import concurrent.futures\n",
        "import requests\n",
        "from bs4 import BeautifulSoup\n",
        "\n",
        "DataSet = []\n",
        "\n",
        "def make_json(Links):\n",
        "    j = 0\n",
        "\n",
        "    def process_link(link):\n",
        "        problem_link = link[0]\n",
        "        status_link = link[1]\n",
        "        try:\n",
        "          page = requests.get(problem_link)\n",
        "          soup = BeautifulSoup(page.content, 'html.parser')\n",
        "          problem_statement = soup.find(class_='problem-statement')\n",
        "          problem_data, pos = extract_text_mathlb_from_problem(problem_statement)\n",
        "\n",
        "          try:\n",
        "            page = requests.get(status_link)\n",
        "            soup = BeautifulSoup(page.content, \"html.parser\")\n",
        "            submissions_links = extract_submissions_links_from_all_status(soup , status_link)\n",
        "            print(problem_link,len(submissions_links))\n",
        "            for submission in submissions_links:\n",
        "              try:\n",
        "                page = requests.get(submission[0])\n",
        "                soup = BeautifulSoup(page.content, 'html.parser')\n",
        "                code = extract_code_from_submission(soup)\n",
        "\n",
        "                DATA_FORM = {\n",
        "                    'problem_statement': problem_data,\n",
        "                    'solution': code,\n",
        "                    'solution_link': submission[0],\n",
        "                    'solution_id': submission[0],\n",
        "                    'problem_link': problem_link\n",
        "                }\n",
        "                DataSet.append(DATA_FORM)\n",
        "                nonlocal j\n",
        "                j += 1\n",
        "                print(j)\n",
        "              except:\n",
        "                print(f\"could not access to the submission {submission[0]}\")\n",
        "          except:\n",
        "            print(f\"could not access to the status_link {status_link}\")\n",
        "        except:\n",
        "          print(f\"could not access to the problem link {problem_link}\")\n",
        "\n",
        "    with concurrent.futures.ThreadPoolExecutor(max_workers=3) as executor:\n",
        "        executor.map(process_link, Links)\n",
        "\n",
        "make_json(Links)"
      ],
      "metadata": {
        "colab": {
          "base_uri": "https://localhost:8080/",
          "height": 1000
        },
        "id": "33vRCCUzp8eU",
        "outputId": "fcc44b95-decd-4c23-a09e-f7c7a5fefa44"
      },
      "execution_count": null,
      "outputs": [
        {
          "output_type": "stream",
          "name": "stdout",
          "text": [
            "https://codeforces.com/problemset/problem/1373/G 0\n",
            "https://codeforces.com/problemset/problem/1373/F 2\n",
            "1\n",
            "2\n",
            "3\n",
            "https://codeforces.com/problemset/problem/1373/E 5\n",
            "4\n",
            "5\n",
            "6\n",
            "7\n",
            "8\n",
            "https://codeforces.com/problemset/problem/1373/D 21\n",
            "9\n",
            "10\n",
            "11\n",
            "12\n",
            "13\n",
            "14\n",
            "15\n",
            "16\n",
            "17\n",
            "18\n",
            "19\n",
            "20\n",
            "21\n",
            "22\n",
            "23\n",
            "24\n",
            "25\n",
            "26\n",
            "27\n",
            "28\n",
            "29\n",
            "https://codeforces.com/problemset/problem/1373/C 25\n",
            "30\n",
            "31\n",
            "32\n",
            "33\n",
            "34\n",
            "35\n",
            "36\n",
            "37\n",
            "38\n",
            "39\n",
            "40\n",
            "41\n",
            "42\n",
            "43\n",
            "44\n",
            "45\n",
            "46\n",
            "47\n",
            "48\n",
            "49\n",
            "50\n",
            "51\n",
            "52\n",
            "53\n",
            "54\n",
            "55\n",
            "https://codeforces.com/problemset/problem/1370/F2 29\n",
            "56\n",
            "57\n",
            "58\n",
            "59\n",
            "60\n",
            "61\n",
            "62\n",
            "63\n",
            "64\n",
            "65\n",
            "66\n",
            "67\n",
            "68\n",
            "69\n",
            "70\n",
            "71\n",
            "72\n",
            "73\n",
            "74\n",
            "75\n",
            "76\n",
            "77\n",
            "78\n",
            "79\n",
            "could not access to the submission https://codeforces.com/problemset/submission/1370/117005752\n",
            "could not access to the submission https://codeforces.com/problemset/submission/1370/119546710\n",
            "could not access to the submission https://codeforces.com/problemset/submission/1370/84437157\n",
            "could not access to the submission https://codeforces.com/problemset/submission/1370/84700462\n",
            "could not access to the submission https://codeforces.com/problemset/submission/1370/84476054\n",
            "https://codeforces.com/problemset/problem/1370/F1 30\n",
            "could not access to the submission https://codeforces.com/problemset/submission/1370/84476054\n",
            "could not access to the submission https://codeforces.com/problemset/submission/1370/84476054\n",
            "could not access to the submission https://codeforces.com/problemset/submission/1370/117005752\n",
            "could not access to the submission https://codeforces.com/problemset/submission/1370/84476054\n",
            "could not access to the submission https://codeforces.com/problemset/submission/1370/117005752\n",
            "could not access to the submission https://codeforces.com/problemset/submission/1370/84476054\n",
            "could not access to the submission https://codeforces.com/problemset/submission/1370/117005752\n",
            "could not access to the submission https://codeforces.com/problemset/submission/1370/84476054\n",
            "could not access to the submission https://codeforces.com/problemset/submission/1370/119546710\n",
            "could not access to the submission https://codeforces.com/problemset/submission/1370/117005752\n",
            "could not access to the submission https://codeforces.com/problemset/submission/1370/84437157\n",
            "could not access to the submission https://codeforces.com/problemset/submission/1370/84700462\n",
            "could not access to the submission https://codeforces.com/problemset/submission/1370/119546710\n",
            "could not access to the submission https://codeforces.com/problemset/submission/1370/84437157\n",
            "could not access to the submission https://codeforces.com/problemset/submission/1370/84700462\n",
            "could not access to the submission https://codeforces.com/problemset/submission/1370/119546710\n",
            "could not access to the submission https://codeforces.com/problemset/submission/1370/84437157\n",
            "could not access to the submission https://codeforces.com/problemset/submission/1370/84700462\n",
            "could not access to the submission https://codeforces.com/problemset/submission/1370/204187378\n",
            "could not access to the submission https://codeforces.com/problemset/submission/1370/204187378\n",
            "could not access to the submission https://codeforces.com/problemset/submission/1370/204187378\n",
            "could not access to the submission https://codeforces.com/problemset/submission/1370/85093141\n",
            "could not access to the submission https://codeforces.com/problemset/submission/1370/84476054\n",
            "could not access to the submission https://codeforces.com/problemset/submission/1370/85093141\n",
            "could not access to the submission https://codeforces.com/problemset/submission/1370/117005752\n",
            "80\n",
            "could not access to the submission https://codeforces.com/problemset/submission/1370/84437157\n",
            "could not access to the submission https://codeforces.com/problemset/submission/1370/84700462\n",
            "could not access to the submission https://codeforces.com/problemset/submission/1370/84476054\n",
            "could not access to the submission https://codeforces.com/problemset/submission/1370/84476054\n"
          ]
        },
        {
          "output_type": "error",
          "ename": "KeyboardInterrupt",
          "evalue": "ignored",
          "traceback": [
            "\u001b[0;31m---------------------------------------------------------------------------\u001b[0m",
            "\u001b[0;31mKeyboardInterrupt\u001b[0m                         Traceback (most recent call last)",
            "\u001b[0;32m<ipython-input-15-47dc26b6654d>\u001b[0m in \u001b[0;36m<cell line: 51>\u001b[0;34m()\u001b[0m\n\u001b[1;32m     49\u001b[0m         \u001b[0mexecutor\u001b[0m\u001b[0;34m.\u001b[0m\u001b[0mmap\u001b[0m\u001b[0;34m(\u001b[0m\u001b[0mprocess_link\u001b[0m\u001b[0;34m,\u001b[0m \u001b[0mLinks\u001b[0m\u001b[0;34m)\u001b[0m\u001b[0;34m\u001b[0m\u001b[0;34m\u001b[0m\u001b[0m\n\u001b[1;32m     50\u001b[0m \u001b[0;34m\u001b[0m\u001b[0m\n\u001b[0;32m---> 51\u001b[0;31m \u001b[0mmake_json\u001b[0m\u001b[0;34m(\u001b[0m\u001b[0mLinks\u001b[0m\u001b[0;34m)\u001b[0m\u001b[0;34m\u001b[0m\u001b[0;34m\u001b[0m\u001b[0m\n\u001b[0m",
            "\u001b[0;32m<ipython-input-15-47dc26b6654d>\u001b[0m in \u001b[0;36mmake_json\u001b[0;34m(Links)\u001b[0m\n\u001b[1;32m     46\u001b[0m           \u001b[0mprint\u001b[0m\u001b[0;34m(\u001b[0m\u001b[0;34mf\"could not access to the problem link {problem_link}\"\u001b[0m\u001b[0;34m)\u001b[0m\u001b[0;34m\u001b[0m\u001b[0;34m\u001b[0m\u001b[0m\n\u001b[1;32m     47\u001b[0m \u001b[0;34m\u001b[0m\u001b[0m\n\u001b[0;32m---> 48\u001b[0;31m     \u001b[0;32mwith\u001b[0m \u001b[0mconcurrent\u001b[0m\u001b[0;34m.\u001b[0m\u001b[0mfutures\u001b[0m\u001b[0;34m.\u001b[0m\u001b[0mThreadPoolExecutor\u001b[0m\u001b[0;34m(\u001b[0m\u001b[0mmax_workers\u001b[0m\u001b[0;34m=\u001b[0m\u001b[0;36m3\u001b[0m\u001b[0;34m)\u001b[0m \u001b[0;32mas\u001b[0m \u001b[0mexecutor\u001b[0m\u001b[0;34m:\u001b[0m\u001b[0;34m\u001b[0m\u001b[0;34m\u001b[0m\u001b[0m\n\u001b[0m\u001b[1;32m     49\u001b[0m         \u001b[0mexecutor\u001b[0m\u001b[0;34m.\u001b[0m\u001b[0mmap\u001b[0m\u001b[0;34m(\u001b[0m\u001b[0mprocess_link\u001b[0m\u001b[0;34m,\u001b[0m \u001b[0mLinks\u001b[0m\u001b[0;34m)\u001b[0m\u001b[0;34m\u001b[0m\u001b[0;34m\u001b[0m\u001b[0m\n\u001b[1;32m     50\u001b[0m \u001b[0;34m\u001b[0m\u001b[0m\n",
            "\u001b[0;32m/usr/lib/python3.10/concurrent/futures/_base.py\u001b[0m in \u001b[0;36m__exit__\u001b[0;34m(self, exc_type, exc_val, exc_tb)\u001b[0m\n\u001b[1;32m    647\u001b[0m \u001b[0;34m\u001b[0m\u001b[0m\n\u001b[1;32m    648\u001b[0m     \u001b[0;32mdef\u001b[0m \u001b[0m__exit__\u001b[0m\u001b[0;34m(\u001b[0m\u001b[0mself\u001b[0m\u001b[0;34m,\u001b[0m \u001b[0mexc_type\u001b[0m\u001b[0;34m,\u001b[0m \u001b[0mexc_val\u001b[0m\u001b[0;34m,\u001b[0m \u001b[0mexc_tb\u001b[0m\u001b[0;34m)\u001b[0m\u001b[0;34m:\u001b[0m\u001b[0;34m\u001b[0m\u001b[0;34m\u001b[0m\u001b[0m\n\u001b[0;32m--> 649\u001b[0;31m         \u001b[0mself\u001b[0m\u001b[0;34m.\u001b[0m\u001b[0mshutdown\u001b[0m\u001b[0;34m(\u001b[0m\u001b[0mwait\u001b[0m\u001b[0;34m=\u001b[0m\u001b[0;32mTrue\u001b[0m\u001b[0;34m)\u001b[0m\u001b[0;34m\u001b[0m\u001b[0;34m\u001b[0m\u001b[0m\n\u001b[0m\u001b[1;32m    650\u001b[0m         \u001b[0;32mreturn\u001b[0m \u001b[0;32mFalse\u001b[0m\u001b[0;34m\u001b[0m\u001b[0;34m\u001b[0m\u001b[0m\n\u001b[1;32m    651\u001b[0m \u001b[0;34m\u001b[0m\u001b[0m\n",
            "\u001b[0;32m/usr/lib/python3.10/concurrent/futures/thread.py\u001b[0m in \u001b[0;36mshutdown\u001b[0;34m(self, wait, cancel_futures)\u001b[0m\n\u001b[1;32m    233\u001b[0m         \u001b[0;32mif\u001b[0m \u001b[0mwait\u001b[0m\u001b[0;34m:\u001b[0m\u001b[0;34m\u001b[0m\u001b[0;34m\u001b[0m\u001b[0m\n\u001b[1;32m    234\u001b[0m             \u001b[0;32mfor\u001b[0m \u001b[0mt\u001b[0m \u001b[0;32min\u001b[0m \u001b[0mself\u001b[0m\u001b[0;34m.\u001b[0m\u001b[0m_threads\u001b[0m\u001b[0;34m:\u001b[0m\u001b[0;34m\u001b[0m\u001b[0;34m\u001b[0m\u001b[0m\n\u001b[0;32m--> 235\u001b[0;31m                 \u001b[0mt\u001b[0m\u001b[0;34m.\u001b[0m\u001b[0mjoin\u001b[0m\u001b[0;34m(\u001b[0m\u001b[0;34m)\u001b[0m\u001b[0;34m\u001b[0m\u001b[0;34m\u001b[0m\u001b[0m\n\u001b[0m\u001b[1;32m    236\u001b[0m     \u001b[0mshutdown\u001b[0m\u001b[0;34m.\u001b[0m\u001b[0m__doc__\u001b[0m \u001b[0;34m=\u001b[0m \u001b[0m_base\u001b[0m\u001b[0;34m.\u001b[0m\u001b[0mExecutor\u001b[0m\u001b[0;34m.\u001b[0m\u001b[0mshutdown\u001b[0m\u001b[0;34m.\u001b[0m\u001b[0m__doc__\u001b[0m\u001b[0;34m\u001b[0m\u001b[0;34m\u001b[0m\u001b[0m\n",
            "\u001b[0;32m/usr/lib/python3.10/threading.py\u001b[0m in \u001b[0;36mjoin\u001b[0;34m(self, timeout)\u001b[0m\n\u001b[1;32m   1094\u001b[0m \u001b[0;34m\u001b[0m\u001b[0m\n\u001b[1;32m   1095\u001b[0m         \u001b[0;32mif\u001b[0m \u001b[0mtimeout\u001b[0m \u001b[0;32mis\u001b[0m \u001b[0;32mNone\u001b[0m\u001b[0;34m:\u001b[0m\u001b[0;34m\u001b[0m\u001b[0;34m\u001b[0m\u001b[0m\n\u001b[0;32m-> 1096\u001b[0;31m             \u001b[0mself\u001b[0m\u001b[0;34m.\u001b[0m\u001b[0m_wait_for_tstate_lock\u001b[0m\u001b[0;34m(\u001b[0m\u001b[0;34m)\u001b[0m\u001b[0;34m\u001b[0m\u001b[0;34m\u001b[0m\u001b[0m\n\u001b[0m\u001b[1;32m   1097\u001b[0m         \u001b[0;32melse\u001b[0m\u001b[0;34m:\u001b[0m\u001b[0;34m\u001b[0m\u001b[0;34m\u001b[0m\u001b[0m\n\u001b[1;32m   1098\u001b[0m             \u001b[0;31m# the behavior of a negative timeout isn't documented, but\u001b[0m\u001b[0;34m\u001b[0m\u001b[0;34m\u001b[0m\u001b[0m\n",
            "\u001b[0;32m/usr/lib/python3.10/threading.py\u001b[0m in \u001b[0;36m_wait_for_tstate_lock\u001b[0;34m(self, block, timeout)\u001b[0m\n\u001b[1;32m   1114\u001b[0m \u001b[0;34m\u001b[0m\u001b[0m\n\u001b[1;32m   1115\u001b[0m         \u001b[0;32mtry\u001b[0m\u001b[0;34m:\u001b[0m\u001b[0;34m\u001b[0m\u001b[0;34m\u001b[0m\u001b[0m\n\u001b[0;32m-> 1116\u001b[0;31m             \u001b[0;32mif\u001b[0m \u001b[0mlock\u001b[0m\u001b[0;34m.\u001b[0m\u001b[0macquire\u001b[0m\u001b[0;34m(\u001b[0m\u001b[0mblock\u001b[0m\u001b[0;34m,\u001b[0m \u001b[0mtimeout\u001b[0m\u001b[0;34m)\u001b[0m\u001b[0;34m:\u001b[0m\u001b[0;34m\u001b[0m\u001b[0;34m\u001b[0m\u001b[0m\n\u001b[0m\u001b[1;32m   1117\u001b[0m                 \u001b[0mlock\u001b[0m\u001b[0;34m.\u001b[0m\u001b[0mrelease\u001b[0m\u001b[0;34m(\u001b[0m\u001b[0;34m)\u001b[0m\u001b[0;34m\u001b[0m\u001b[0;34m\u001b[0m\u001b[0m\n\u001b[1;32m   1118\u001b[0m                 \u001b[0mself\u001b[0m\u001b[0;34m.\u001b[0m\u001b[0m_stop\u001b[0m\u001b[0;34m(\u001b[0m\u001b[0;34m)\u001b[0m\u001b[0;34m\u001b[0m\u001b[0;34m\u001b[0m\u001b[0m\n",
            "\u001b[0;31mKeyboardInterrupt\u001b[0m: "
          ]
        }
      ]
    },
    {
      "cell_type": "code",
      "source": [
        "from google.colab import files\n",
        "import json\n",
        "# Convert the data to JSON string\n",
        "json_data = json.dumps(DataSet)\n",
        "\n",
        "# Save the JSON string to a file\n",
        "file_path = \"data.json\"\n",
        "with open(file_path, \"w\") as file:\n",
        "    file.write(json_data)\n",
        "\n",
        "# Download the JSON file\n",
        "files.download(file_path)"
      ],
      "metadata": {
        "id": "ir8L72o9vZdh"
      },
      "execution_count": null,
      "outputs": []
    },
    {
      "cell_type": "code",
      "source": [
        "!pip install -U -q PyDrive\n"
      ],
      "metadata": {
        "id": "c-tjPS39wbu5"
      },
      "execution_count": null,
      "outputs": []
    },
    {
      "cell_type": "code",
      "source": [
        "!zip archive.zip /content/data.json"
      ],
      "metadata": {
        "id": "cPPQQKnQ8VNv"
      },
      "execution_count": null,
      "outputs": []
    },
    {
      "cell_type": "code",
      "source": [
        "!cp /content/archive.zip /content/drive/MyDrive/codeforces.zip"
      ],
      "metadata": {
        "id": "Dcjn9Rmz7gdj"
      },
      "execution_count": null,
      "outputs": []
    },
    {
      "cell_type": "code",
      "source": [],
      "metadata": {
        "id": "Fq3symok7kl_"
      },
      "execution_count": null,
      "outputs": []
    }
  ]
}